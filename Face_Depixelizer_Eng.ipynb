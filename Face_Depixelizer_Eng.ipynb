{
  "nbformat": 4,
  "nbformat_minor": 0,
  "metadata": {
    "colab": {
      "name": "Face Depixelizer Eng",
      "provenance": [],
      "private_outputs": true,
      "collapsed_sections": [],
      "include_colab_link": true
    },
    "kernelspec": {
      "name": "python3",
      "display_name": "Python 3"
    },
    "accelerator": "GPU"
  },
  "cells": [
    {
      "cell_type": "markdown",
      "metadata": {
        "id": "view-in-github",
        "colab_type": "text"
      },
      "source": [
        "<a href=\"https://colab.research.google.com/github/ctawong/Face-Depixelizer/blob/master/Face_Depixelizer_Eng.ipynb\" target=\"_parent\"><img src=\"https://colab.research.google.com/assets/colab-badge.svg\" alt=\"Open In Colab\"/></a>"
      ]
    },
    {
      "cell_type": "markdown",
      "metadata": {
        "id": "siqzcgRRyr_n",
        "colab_type": "text"
      },
      "source": [
        "<b><font color=\"black\" size=\"+4\">Try PULSE</font></b>\n",
        "\n",
        "Given a low-resolution input image, Face Depixelizer searches the outputs of a generative model (here, StyleGAN) for high-resolution images that are perceptually realistic and downscale correctly.\n",
        "\n",
        "<b><font color=\"black\" size=\"+2\">Based on:</font></b>\n",
        "\n",
        "**GitHub repository**: [PULSE](https://github.com/adamian98/pulse)\n",
        "\n",
        "Article: [PULSE: Self-Supervised Photo Upsampling via Latent Space Exploration of Generative Models](https://arxiv.org/abs/2003.03808)\n",
        "\n",
        "\n",
        "\n"
      ]
    },
    {
      "cell_type": "code",
      "metadata": {
        "id": "CcvZwgH1-3kr",
        "colab_type": "code",
        "colab": {}
      },
      "source": [
        "import requests\n",
        "url='https://dmn-dallas-news-prod.cdn.arcpublishing.com/resizer/aG7BUQ2JaxvTBCdsEi5XFKvfbTE=/1660x934/smart/filters:no_upscale()/cloudfront-us-east-1.images.arcpublishing.com/dmn/74PWSUWQWGRIUQZZQH3O4FNR6I.jpg'\n",
        "r = requests.get(url, allow_redirects=True)\n",
        "ext=r.headers.get('content-type').split('/')[1]\n",
        "open('image_orig.'+ext, 'wb').write(r.content)"
      ],
      "execution_count": null,
      "outputs": []
    },
    {
      "cell_type": "code",
      "metadata": {
        "id": "qvdOQ0WU_vQm",
        "colab_type": "code",
        "colab": {}
      },
      "source": [
        "!ls /content/pulse"
      ],
      "execution_count": null,
      "outputs": []
    },
    {
      "cell_type": "code",
      "metadata": {
        "id": "nZi14QFEG13s",
        "colab_type": "code",
        "colab": {}
      },
      "source": [
        "Path(\"PULSE.py\").exists()"
      ],
      "execution_count": null,
      "outputs": []
    },
    {
      "cell_type": "code",
      "metadata": {
        "id": "r2NGJCYtGu2s",
        "colab_type": "code",
        "colab": {}
      },
      "source": [
        "!ls input"
      ],
      "execution_count": null,
      "outputs": []
    },
    {
      "cell_type": "code",
      "metadata": {
        "id": "OsGgh6sdDfFB",
        "colab_type": "code",
        "colab": {}
      },
      "source": [
        "Path(\"realpics\").exists()"
      ],
      "execution_count": null,
      "outputs": []
    },
    {
      "cell_type": "code",
      "metadata": {
        "id": "fU0aGtD4Nl4W",
        "colab_type": "code",
        "cellView": "both",
        "colab": {}
      },
      "source": [
        "import torch\n",
        "import torchvision\n",
        "from pathlib import Path\n",
        "import shutil\n",
        "import os\n",
        "\n",
        "if not Path(\"PULSE.py\").exists():\n",
        "  if Path(\"pulse\").exists():\n",
        "    %cd /content/pulse\n",
        "  else:\n",
        "    !git clone https://github.com/ctawong/pulse\n",
        "    %cd /content/pulse\n",
        "    !mkdir input/\n",
        "    toPIL = torchvision.transforms.ToPILImage()\n",
        "    toTensor = torchvision.transforms.ToTensor()\n",
        "    from bicubic import BicubicDownSample\n",
        "    D = BicubicDownSample(factor=1)\n",
        "\n",
        "# remove previous content\n",
        "if Path(\"realpics\").exists():\n",
        "  shutil.rmtree('realpics')\n",
        "!mkdir realpics\n",
        "if Path(\"input\").exists():\n",
        "  shutil.rmtree('input')\n",
        "!mkdir input\n",
        "\n",
        "\n",
        "from io import BytesIO\n",
        "import matplotlib.pyplot as plt\n",
        "import matplotlib.image as mpimg\n",
        "from PIL import Image\n",
        "from PULSE import PULSE\n",
        "from google.colab import files\n",
        "from bicubic import BicubicDownSample\n",
        "from IPython import display\n",
        "from IPython.display import display\n",
        "from IPython.display import clear_output\n",
        "import numpy as np\n",
        "from drive import open_url\n",
        "from mpl_toolkits.axes_grid1 import ImageGrid\n",
        "import requests\n",
        "%matplotlib inline\n",
        "\n",
        "#@markdown ## Basic settings:\n",
        "#@markdown ##### \n",
        "Photo_URL = \"https://dmn-dallas-news-prod.cdn.arcpublishing.com/resizer/aG7BUQ2JaxvTBCdsEi5XFKvfbTE=/1660x934/smart/filters:no_upscale()/cloudfront-us-east-1.images.arcpublishing.com/dmn/74PWSUWQWGRIUQZZQH3O4FNR6I.jpg\" #@param {type:\"string\"}\n",
        "r = requests.get(Photo_URL, allow_redirects=True)\n",
        "ext=r.headers.get('content-type').split('/')[1]\n",
        "realPicName = 'realpics/image.'+ext\n",
        "open(realPicName, 'wb').write(r.content)\n",
        "\n",
        "!python align_face.py\n",
        "\n",
        "face = Image.open(fn)\n",
        "face = face.resize((1024, 1024), Image.ANTIALIAS)\n",
        "face = face.convert('RGB')\n",
        "face_name = 'face.png'\n",
        "face.save(face_name)\n",
        "%cp $face_name /content/pulse/input/\n",
        "\n",
        "# images = []\n",
        "# imagesHR = []\n",
        "# imagesHR.append(face)\n",
        "# face = toPIL(D(toTensor(face).unsqueeze(0).cuda()).cpu().detach().clamp(0,1)[0])\n",
        "# images.append(face)\n",
        "\n",
        "\n",
        "#@markdown ---\n",
        "#@markdown ## Advanced settings:\n",
        "#@markdown ##### *If you want to make a more accurate result, then modify the following* **DEFAULT** *variables*:\n",
        "\n",
        "eps = 0.0025 #@param {type:\"slider\", min:0.001, max:0.005, step:0.0005}\n",
        "seed = 100 #@param {type:\"integer\"}\n",
        "noise_type = 'trainable'  #@param ['zero', 'fixed', 'trainable']\n",
        "optimizer = 'adam'  #@param ['sgd', 'adam','sgdm', 'adamax']\n",
        "learning_rate = 0.4 #@param {type:\"slider\", min:0, max:1, step:0.05}\n",
        "learning_rate_schedule = 'linear1cycledrop'  #@param ['fixed', 'linear1cycle', 'linear1cycledrop']\n",
        "steps = 100 #@param {type:\"slider\", min:100, max:1000, step:50}\n",
        "clear_output()\n",
        "\n",
        "seed = abs(seed)\n",
        "print('Estimated Runtime: {}s.\\n'.format(round(0.23*steps)+6))\n",
        "!python run.py \\\n",
        "  -seed $seed \\\n",
        "  -noise_type $noise_type \\\n",
        "  -opt_name $optimizer \\\n",
        "  -learning_rate $learning_rate \\\n",
        "  -steps $steps \\\n",
        "  -lr_schedule $learning_rate_schedule\n",
        "\n",
        "#@markdown ---\n",
        "#@markdown *If there is an error during execution or the \"**Browse**\" button is not active, try running this block again*\n",
        "\n",
        "fig, (ax1, ax2) = plt.subplots(1, 2)\n",
        "ax1.imshow(mpimg.imread('/content/pulse/input/face.png'))\n",
        "ax1.set_title('Original')\n",
        "ax2.imshow(mpimg.imread('/content/pulse/runs/face.png'))\n",
        "ax2.set_title('Result')\n",
        "plt.show()"
      ],
      "execution_count": null,
      "outputs": []
    },
    {
      "cell_type": "code",
      "metadata": {
        "id": "DUfP6_7vTK3b",
        "colab_type": "code",
        "cellView": "both",
        "colab": {}
      },
      "source": [
        "#@title <b><font color=\"red\" size=\"+3\">←</font><font color=\"black\" size=\"+3\"> Download result</font></b>\n",
        "try: files.download('/content/pulse/runs/face.png')\n",
        "except: raise Exception(\"No result image\")"
      ],
      "execution_count": null,
      "outputs": []
    }
  ]
}